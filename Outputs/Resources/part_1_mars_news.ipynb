{
 "cells": [
  {
   "cell_type": "code",
   "execution_count": null,
   "metadata": {
    "vscode": {
     "languageId": "plaintext"
    }
   },
   "outputs": [],
   "source": [
    "[\n",
    "    {\n",
    "        \"title\": \"NASA's MAVEN Observes Martian Light Show Caused by Major Solar Storm\",\n",
    "        \"preview\": \"For the first time in its eight years orbiting Mars, NASA\\u2019s MAVEN mission witnessed two different types of ultraviolet aurorae simultaneously, the result of solar storms that began on Aug. 27.\"\n",
    "    },\n",
    "    {\n",
    "        \"title\": \"NASA Prepares to Say 'Farewell' to InSight Spacecraft\",\n",
    "        \"preview\": \"A closer look at what goes into wrapping up the mission as the spacecraft\\u2019s power supply continues to dwindle.\"\n",
    "    },\n",
    "    {\n",
    "        \"title\": \"NASA and ESA Agree on Next Steps to Return Mars Samples to Earth\",\n",
    "        \"preview\": \"The agency\\u2019s Perseverance rover will establish the first sample depot on Mars.\"\n",
    "    },\n",
    "    {\n",
    "        \"title\": \"NASA's InSight Lander Detects Stunning Meteoroid Impact on Mars\",\n",
    "        \"preview\": \"The agency\\u2019s lander felt the ground shake during the impact while cameras aboard the Mars Reconnaissance Orbiter spotted the yawning new crater from space.\"\n",
    "    },\n",
    "    {\n",
    "        \"title\": \"NASA To Host Briefing on InSight, Mars Reconnaissance Orbiter Findings\",\n",
    "        \"preview\": \"Scientists from two Mars missions will discuss how they combined images and data for a major finding on the Red Planet.\"\n",
    "    },\n",
    "    {\n",
    "        \"title\": \"Why NASA Is Trying To Crash Land on Mars\",\n",
    "        \"preview\": \"Like a car\\u2019s crumple zone, the experimental SHIELD lander is designed to absorb a hard impact.\"\n",
    "    },\n",
    "    {\n",
    "        \"title\": \"Curiosity Mars Rover Reaches Long-Awaited Salty Region\",\n",
    "        \"preview\": \"After years of climbing, the Mars rover has arrived at a special region believed to have formed as Mars\\u2019 climate was drying.\"\n",
    "    },\n",
    "    {\n",
    "        \"title\": \"Mars Mission Shields Up for Tests\",\n",
    "        \"preview\": \"Protecting Mars Sample Return spacecraft from micrometeorites requires high-caliber work.\"\n",
    "    },\n",
    "    {\n",
    "        \"title\": \"NASA's InSight Waits Out Dust Storm\",\n",
    "        \"preview\": \"InSight\\u2019s team is taking steps to help the solar-powered lander continue operating for as long as possible.\"\n",
    "    },\n",
    "    {\n",
    "        \"title\": \"NASA's InSight 'Hears' Its First Meteoroid Impacts on Mars\",\n",
    "        \"preview\": \"The Mars lander\\u2019s seismometer has picked up vibrations from four separate impacts in the past two years.\"\n",
    "    },\n",
    "    {\n",
    "        \"title\": \"NASA's Perseverance Rover Investigates Geologically Rich Mars Terrain\",\n",
    "        \"preview\": \"The latest findings provide greater detail on a region of the Red Planet that has a watery past and is yielding promising samples for the NASA-ESA Mars Sample Return campaign.\"\n",
    "    },\n",
    "    {\n",
    "        \"title\": \"NASA to Host Briefing on Perseverance Mars Rover Mission Operations\",\n",
    "        \"preview\": \"Members of the mission will discuss the rover\\u2019s activities as it gathers samples in an ancient river delta.\"\n",
    "    },\n",
    "    {\n",
    "        \"title\": \"NASA's Perseverance Makes New Discoveries in Mars' Jezero Crater\",\n",
    "        \"preview\": \"The rover found that Jezero Crater\\u2019s floor is made up of volcanic rocks that have interacted with water.\"\n",
    "    },\n",
    "    {\n",
    "        \"title\": \"10 Years Since Landing, NASA's Curiosity Mars Rover Still Has Drive\",\n",
    "        \"preview\": \"Despite signs of wear, the intrepid spacecraft is about to start an exciting new chapter of its mission as it climbs a Martian mountain.\"\n",
    "    },\n",
    "    {\n",
    "        \"title\": \"SAM's Top 5 Discoveries Aboard NASA's Curiosity Rover at Mars\",\n",
    "        \"preview\": \"\\u201cSelfie\\u201d of the Curiosity rover with inset showing the SAM instrument prior to installation on the rover.\"\n",
    "    }\n",
    "]"
   ]
  }
 ],
 "metadata": {
  "kernelspec": {
   "display_name": "Python 3 (ipykernel)",
   "language": "python",
   "name": "python3"
  },
  "language_info": {
   "codemirror_mode": {
    "name": "ipython",
    "version": 3
   },
   "file_extension": ".py",
   "mimetype": "text/x-python",
   "name": "python",
   "nbconvert_exporter": "python",
   "pygments_lexer": "ipython3",
   "version": "3.10.4"
  },
  "vscode": {
   "interpreter": {
    "hash": "31f2aee4e71d21fbe5cf8b01ff0e069b9275f58929596ceb00d14d90e3e16cd6"
   }
  }
 },
 "nbformat": 4,
 "nbformat_minor": 4
}
